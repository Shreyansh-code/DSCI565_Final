{
  "nbformat": 4,
  "nbformat_minor": 0,
  "metadata": {
    "colab": {
      "provenance": [],
      "gpuType": "T4"
    },
    "kernelspec": {
      "name": "python3",
      "display_name": "Python 3"
    },
    "language_info": {
      "name": "python"
    },
    "accelerator": "GPU"
  },
  "cells": [
    {
      "cell_type": "code",
      "source": [
        "import pandas as pd\n",
        "from sklearn.preprocessing import OneHotEncoder, MinMaxScaler\n",
        "from sklearn.model_selection import train_test_split\n",
        "from tensorflow.keras.models import Sequential\n",
        "from tensorflow.keras.layers import SimpleRNN, Dense, Dropout, GRU\n",
        "from sklearn.metrics import mean_squared_error, mean_absolute_error\n",
        "import numpy as np\n"
      ],
      "metadata": {
        "id": "FMd97v3Tleu1"
      },
      "execution_count": null,
      "outputs": []
    },
    {
      "cell_type": "code",
      "source": [
        "df = pd.read_csv('/content/df_full.csv')\n",
        "\n",
        "df['LapTime'] = pd.to_timedelta(df['LapTime']).dt.total_seconds()\n",
        "\n",
        "encoder = OneHotEncoder(sparse=False)\n",
        "encoded_features = encoder.fit_transform(df[['Driver', 'FreshTyre']])\n",
        "\n",
        "scaler = MinMaxScaler()\n",
        "normalized_features = scaler.fit_transform(df[['DriverNumber', 'LapTime', 'Position']])\n",
        "\n",
        "processed_features = np.hstack((normalized_features, encoded_features))\n",
        "\n",
        "target = processed_features[:, 2]"
      ],
      "metadata": {
        "colab": {
          "base_uri": "https://localhost:8080/"
        },
        "id": "45ui7AnXlK4D",
        "outputId": "9d9d1af3-0bb0-4530-d965-2a605694831e"
      },
      "execution_count": null,
      "outputs": [
        {
          "output_type": "stream",
          "name": "stderr",
          "text": [
            "/usr/local/lib/python3.10/dist-packages/sklearn/preprocessing/_encoders.py:868: FutureWarning: `sparse` was renamed to `sparse_output` in version 1.2 and will be removed in 1.4. `sparse_output` is ignored unless you leave `sparse` to its default value.\n",
            "  warnings.warn(\n"
          ]
        }
      ]
    },
    {
      "cell_type": "code",
      "source": [
        "time_steps = 10\n",
        "samples = len(processed_features) // time_steps\n",
        "processed_features_reshaped = processed_features[:samples * time_steps].reshape((samples, time_steps, -1))\n",
        "target_reshaped = target[:samples * time_steps].reshape((samples, time_steps))\n",
        "\n",
        "X_train, X_test, y_train, y_test = train_test_split(processed_features_reshaped, target_reshaped, test_size=0.2, random_state=42)\n",
        "\n",
        "\n"
      ],
      "metadata": {
        "id": "-fWCUzjGlHMr"
      },
      "execution_count": null,
      "outputs": []
    },
    {
      "cell_type": "code",
      "source": [
        "model = Sequential()\n",
        "model.add(SimpleRNN(50, activation='relu', input_shape=(X_train.shape[1], X_train.shape[2]), return_sequences=True))\n",
        "model.add(Dropout(0.2))\n",
        "model.add(Dense(1))\n",
        "\n",
        "model.compile(optimizer='adam', loss='mean_squared_error')"
      ],
      "metadata": {
        "id": "omEzi1bbGHDL"
      },
      "execution_count": null,
      "outputs": []
    },
    {
      "cell_type": "code",
      "source": [
        "model.fit(X_train, y_train, epochs=10, batch_size=32)"
      ],
      "metadata": {
        "id": "XQ-dTDsVLGEW"
      },
      "execution_count": null,
      "outputs": []
    },
    {
      "cell_type": "code",
      "source": [
        "y_pred = model.predict(X_test)\n",
        "\n",
        "y_pred_last = y_pred[:, -1]\n",
        "y_test_last = y_test[:, -1]\n",
        "\n",
        "mse = mean_squared_error(y_test_last, y_pred_last)\n",
        "print(\"Mean Squared Error:\", mse)\n",
        "\n",
        "rmse = np.sqrt(mse)\n",
        "print(\"Root Mean Squared Error:\", rmse)\n",
        "\n",
        "mae = mean_absolute_error(y_test_last, y_pred_last)\n",
        "print(\"Mean Absolute Error:\", mae)\n"
      ],
      "metadata": {
        "colab": {
          "base_uri": "https://localhost:8080/"
        },
        "id": "wtmK3VdplS8d",
        "outputId": "3b565eb5-0da8-44bb-fcce-034fd1a85e06"
      },
      "execution_count": null,
      "outputs": [
        {
          "output_type": "stream",
          "name": "stdout",
          "text": [
            "130/130 [==============================] - 1s 3ms/step\n",
            "Mean Squared Error: 4.006327848808438e-05\n",
            "Root Mean Squared Error: 0.006329555947148614\n",
            "Mean Absolute Error: 0.004477114570031544\n"
          ]
        }
      ]
    },
    {
      "cell_type": "code",
      "source": [
        "model2 = Sequential()\n",
        "model2.add(GRU(500, activation='relu', input_shape=(X_train.shape[1], X_train.shape[2]), return_sequences=True))\n",
        "model2.add(Dropout(0.2))\n",
        "model2.add(Dense(1))\n",
        "\n",
        "model2.compile(optimizer='adam', loss='mean_squared_error')\n",
        "\n",
        "model2.fit(X_train, y_train, epochs=10, batch_size=32)\n"
      ],
      "metadata": {
        "colab": {
          "base_uri": "https://localhost:8080/"
        },
        "id": "a1J_gdPBCMVy",
        "outputId": "bca9b0d9-581e-4e67-89f9-71c93872b040"
      },
      "execution_count": null,
      "outputs": [
        {
          "output_type": "stream",
          "name": "stderr",
          "text": [
            "WARNING:tensorflow:Layer gru_1 will not use cuDNN kernels since it doesn't meet the criteria. It will use a generic GPU kernel as fallback when running on GPU.\n"
          ]
        },
        {
          "output_type": "stream",
          "name": "stdout",
          "text": [
            "Epoch 1/10\n",
            "520/520 [==============================] - 17s 30ms/step - loss: 0.0063\n",
            "Epoch 2/10\n",
            "520/520 [==============================] - 16s 30ms/step - loss: 6.6019e-04\n",
            "Epoch 3/10\n",
            "520/520 [==============================] - 15s 29ms/step - loss: 4.7990e-04\n",
            "Epoch 4/10\n",
            "520/520 [==============================] - 15s 28ms/step - loss: 3.9683e-04\n",
            "Epoch 5/10\n",
            "520/520 [==============================] - 15s 29ms/step - loss: 3.4384e-04\n",
            "Epoch 6/10\n",
            "520/520 [==============================] - 15s 29ms/step - loss: 3.2220e-04\n",
            "Epoch 7/10\n",
            "520/520 [==============================] - 15s 29ms/step - loss: 2.8270e-04\n",
            "Epoch 8/10\n",
            "520/520 [==============================] - 16s 30ms/step - loss: 2.5638e-04\n",
            "Epoch 9/10\n",
            "520/520 [==============================] - 16s 31ms/step - loss: 2.2899e-04\n",
            "Epoch 10/10\n",
            "520/520 [==============================] - 16s 30ms/step - loss: 2.2032e-04\n"
          ]
        },
        {
          "output_type": "execute_result",
          "data": {
            "text/plain": [
              "<keras.src.callbacks.History at 0x7c25848665f0>"
            ]
          },
          "metadata": {},
          "execution_count": 10
        }
      ]
    },
    {
      "cell_type": "code",
      "source": [
        "y_pred = model2.predict(X_test)\n",
        "\n",
        "y_pred_last = y_pred[:, -1]\n",
        "y_test_last = y_test[:, -1]\n",
        "\n",
        "mse = mean_squared_error(y_test_last, y_pred_last)\n",
        "print(\"Mean Squared Error:\", mse)\n",
        "\n",
        "rmse = np.sqrt(mse)\n",
        "print(\"Root Mean Squared Error:\", rmse)\n",
        "\n",
        "mae = mean_absolute_error(y_test_last, y_pred_last)\n",
        "print(\"Mean Absolute Error:\", mae)"
      ],
      "metadata": {
        "colab": {
          "base_uri": "https://localhost:8080/"
        },
        "id": "iAiz91NMCMX8",
        "outputId": "a8fa1c3f-c2ec-4140-dd0b-196ed04877d0"
      },
      "execution_count": null,
      "outputs": [
        {
          "output_type": "stream",
          "name": "stdout",
          "text": [
            "130/130 [==============================] - 1s 7ms/step\n",
            "Mean Squared Error: 3.240423655209215e-05\n",
            "Root Mean Squared Error: 0.005692471919306423\n",
            "Mean Absolute Error: 0.004333276637900551\n"
          ]
        }
      ]
    },
    {
      "cell_type": "code",
      "source": [],
      "metadata": {
        "id": "mPCPiYBECMaJ"
      },
      "execution_count": null,
      "outputs": []
    },
    {
      "cell_type": "code",
      "source": [],
      "metadata": {
        "id": "9R2z_5X27DdX"
      },
      "execution_count": null,
      "outputs": []
    }
  ]
}