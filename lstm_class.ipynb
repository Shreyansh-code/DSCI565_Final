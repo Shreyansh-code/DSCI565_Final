{
 "cells": [
  {
   "cell_type": "code",
   "execution_count": 1,
   "metadata": {},
   "outputs": [],
   "source": [
    "import pandas as pd\n",
    "import numpy as np\n",
    "from sklearn.preprocessing import StandardScaler\n",
    "from sklearn.model_selection import train_test_split\n",
    "from keras.models import Sequential\n",
    "from keras.layers import LSTM, Dense, Dropout\n",
    "from keras.callbacks import EarlyStopping"
   ]
  },
  {
   "cell_type": "code",
   "execution_count": 2,
   "metadata": {},
   "outputs": [
    {
     "data": {
      "text/html": [
       "<div>\n",
       "<style scoped>\n",
       "    .dataframe tbody tr th:only-of-type {\n",
       "        vertical-align: middle;\n",
       "    }\n",
       "\n",
       "    .dataframe tbody tr th {\n",
       "        vertical-align: top;\n",
       "    }\n",
       "\n",
       "    .dataframe thead th {\n",
       "        text-align: right;\n",
       "    }\n",
       "</style>\n",
       "<table border=\"1\" class=\"dataframe\">\n",
       "  <thead>\n",
       "    <tr style=\"text-align: right;\">\n",
       "      <th></th>\n",
       "      <th>Unnamed: 0</th>\n",
       "      <th>Driver</th>\n",
       "      <th>DriverNumber</th>\n",
       "      <th>LapTime</th>\n",
       "      <th>FreshTyre</th>\n",
       "      <th>Position</th>\n",
       "    </tr>\n",
       "  </thead>\n",
       "  <tbody>\n",
       "    <tr>\n",
       "      <th>0</th>\n",
       "      <td>0</td>\n",
       "      <td>HAM</td>\n",
       "      <td>44</td>\n",
       "      <td>95.270</td>\n",
       "      <td>1</td>\n",
       "      <td>6.0</td>\n",
       "    </tr>\n",
       "    <tr>\n",
       "      <th>1</th>\n",
       "      <td>1</td>\n",
       "      <td>HAM</td>\n",
       "      <td>44</td>\n",
       "      <td>95.120</td>\n",
       "      <td>1</td>\n",
       "      <td>6.0</td>\n",
       "    </tr>\n",
       "    <tr>\n",
       "      <th>2</th>\n",
       "      <td>2</td>\n",
       "      <td>HAM</td>\n",
       "      <td>44</td>\n",
       "      <td>93.731</td>\n",
       "      <td>1</td>\n",
       "      <td>4.0</td>\n",
       "    </tr>\n",
       "    <tr>\n",
       "      <th>3</th>\n",
       "      <td>3</td>\n",
       "      <td>HAM</td>\n",
       "      <td>44</td>\n",
       "      <td>93.955</td>\n",
       "      <td>1</td>\n",
       "      <td>4.0</td>\n",
       "    </tr>\n",
       "    <tr>\n",
       "      <th>4</th>\n",
       "      <td>4</td>\n",
       "      <td>HAM</td>\n",
       "      <td>44</td>\n",
       "      <td>93.679</td>\n",
       "      <td>1</td>\n",
       "      <td>4.0</td>\n",
       "    </tr>\n",
       "    <tr>\n",
       "      <th>...</th>\n",
       "      <td>...</td>\n",
       "      <td>...</td>\n",
       "      <td>...</td>\n",
       "      <td>...</td>\n",
       "      <td>...</td>\n",
       "      <td>...</td>\n",
       "    </tr>\n",
       "    <tr>\n",
       "      <th>566003</th>\n",
       "      <td>566003</td>\n",
       "      <td>TSU</td>\n",
       "      <td>22</td>\n",
       "      <td>95.133</td>\n",
       "      <td>0</td>\n",
       "      <td>13.0</td>\n",
       "    </tr>\n",
       "    <tr>\n",
       "      <th>566004</th>\n",
       "      <td>566004</td>\n",
       "      <td>ZHO</td>\n",
       "      <td>24</td>\n",
       "      <td>97.487</td>\n",
       "      <td>1</td>\n",
       "      <td>14.0</td>\n",
       "    </tr>\n",
       "    <tr>\n",
       "      <th>566005</th>\n",
       "      <td>566005</td>\n",
       "      <td>ZHO</td>\n",
       "      <td>24</td>\n",
       "      <td>96.727</td>\n",
       "      <td>1</td>\n",
       "      <td>14.0</td>\n",
       "    </tr>\n",
       "    <tr>\n",
       "      <th>566006</th>\n",
       "      <td>566006</td>\n",
       "      <td>ZHO</td>\n",
       "      <td>24</td>\n",
       "      <td>95.731</td>\n",
       "      <td>1</td>\n",
       "      <td>14.0</td>\n",
       "    </tr>\n",
       "    <tr>\n",
       "      <th>566007</th>\n",
       "      <td>566007</td>\n",
       "      <td>ZHO</td>\n",
       "      <td>24</td>\n",
       "      <td>95.883</td>\n",
       "      <td>1</td>\n",
       "      <td>14.0</td>\n",
       "    </tr>\n",
       "  </tbody>\n",
       "</table>\n",
       "<p>566008 rows × 6 columns</p>\n",
       "</div>"
      ],
      "text/plain": [
       "        Unnamed: 0 Driver  DriverNumber  LapTime  FreshTyre  Position\n",
       "0                0    HAM            44   95.270          1       6.0\n",
       "1                1    HAM            44   95.120          1       6.0\n",
       "2                2    HAM            44   93.731          1       4.0\n",
       "3                3    HAM            44   93.955          1       4.0\n",
       "4                4    HAM            44   93.679          1       4.0\n",
       "...            ...    ...           ...      ...        ...       ...\n",
       "566003      566003    TSU            22   95.133          0      13.0\n",
       "566004      566004    ZHO            24   97.487          1      14.0\n",
       "566005      566005    ZHO            24   96.727          1      14.0\n",
       "566006      566006    ZHO            24   95.731          1      14.0\n",
       "566007      566007    ZHO            24   95.883          1      14.0\n",
       "\n",
       "[566008 rows x 6 columns]"
      ]
     },
     "execution_count": 2,
     "metadata": {},
     "output_type": "execute_result"
    }
   ],
   "source": [
    "df = pd.read_csv('df_all.csv')\n",
    "df"
   ]
  },
  {
   "cell_type": "code",
   "execution_count": 3,
   "metadata": {},
   "outputs": [
    {
     "data": {
      "text/plain": [
       "Unnamed: 0        int64\n",
       "Driver           object\n",
       "DriverNumber      int64\n",
       "LapTime         float64\n",
       "FreshTyre         int64\n",
       "Position        float64\n",
       "dtype: object"
      ]
     },
     "execution_count": 3,
     "metadata": {},
     "output_type": "execute_result"
    }
   ],
   "source": [
    "df.dtypes"
   ]
  },
  {
   "cell_type": "code",
   "execution_count": 4,
   "metadata": {},
   "outputs": [],
   "source": [
    "df_copy = df.copy()"
   ]
  },
  {
   "cell_type": "code",
   "execution_count": 7,
   "metadata": {},
   "outputs": [
    {
     "data": {
      "text/plain": [
       "array([0, 1])"
      ]
     },
     "execution_count": 7,
     "metadata": {},
     "output_type": "execute_result"
    }
   ],
   "source": [
    "#convert position to categorical\n",
    "#1=1 rest =0\n",
    "df['Position'] = df['Position'].apply(lambda x: 1 if x == 1 else 0) \n",
    "df['Position'].unique()"
   ]
  },
  {
   "cell_type": "code",
   "execution_count": 17,
   "metadata": {},
   "outputs": [
    {
     "data": {
      "text/plain": [
       "Position\n",
       "0    533756\n",
       "1     32252\n",
       "Name: count, dtype: int64"
      ]
     },
     "execution_count": 17,
     "metadata": {},
     "output_type": "execute_result"
    }
   ],
   "source": [
    "#count number of 1s and 0s\n",
    "df['Position'].value_counts()"
   ]
  },
  {
   "cell_type": "code",
   "execution_count": 8,
   "metadata": {},
   "outputs": [
    {
     "data": {
      "text/html": [
       "<div>\n",
       "<style scoped>\n",
       "    .dataframe tbody tr th:only-of-type {\n",
       "        vertical-align: middle;\n",
       "    }\n",
       "\n",
       "    .dataframe tbody tr th {\n",
       "        vertical-align: top;\n",
       "    }\n",
       "\n",
       "    .dataframe thead th {\n",
       "        text-align: right;\n",
       "    }\n",
       "</style>\n",
       "<table border=\"1\" class=\"dataframe\">\n",
       "  <thead>\n",
       "    <tr style=\"text-align: right;\">\n",
       "      <th></th>\n",
       "      <th>DriverNumber</th>\n",
       "      <th>LapTime</th>\n",
       "      <th>FreshTyre</th>\n",
       "    </tr>\n",
       "  </thead>\n",
       "  <tbody>\n",
       "    <tr>\n",
       "      <th>0</th>\n",
       "      <td>44</td>\n",
       "      <td>95.270</td>\n",
       "      <td>1</td>\n",
       "    </tr>\n",
       "    <tr>\n",
       "      <th>1</th>\n",
       "      <td>44</td>\n",
       "      <td>95.120</td>\n",
       "      <td>1</td>\n",
       "    </tr>\n",
       "    <tr>\n",
       "      <th>2</th>\n",
       "      <td>44</td>\n",
       "      <td>93.731</td>\n",
       "      <td>1</td>\n",
       "    </tr>\n",
       "    <tr>\n",
       "      <th>3</th>\n",
       "      <td>44</td>\n",
       "      <td>93.955</td>\n",
       "      <td>1</td>\n",
       "    </tr>\n",
       "    <tr>\n",
       "      <th>4</th>\n",
       "      <td>44</td>\n",
       "      <td>93.679</td>\n",
       "      <td>1</td>\n",
       "    </tr>\n",
       "    <tr>\n",
       "      <th>...</th>\n",
       "      <td>...</td>\n",
       "      <td>...</td>\n",
       "      <td>...</td>\n",
       "    </tr>\n",
       "    <tr>\n",
       "      <th>566003</th>\n",
       "      <td>22</td>\n",
       "      <td>95.133</td>\n",
       "      <td>0</td>\n",
       "    </tr>\n",
       "    <tr>\n",
       "      <th>566004</th>\n",
       "      <td>24</td>\n",
       "      <td>97.487</td>\n",
       "      <td>1</td>\n",
       "    </tr>\n",
       "    <tr>\n",
       "      <th>566005</th>\n",
       "      <td>24</td>\n",
       "      <td>96.727</td>\n",
       "      <td>1</td>\n",
       "    </tr>\n",
       "    <tr>\n",
       "      <th>566006</th>\n",
       "      <td>24</td>\n",
       "      <td>95.731</td>\n",
       "      <td>1</td>\n",
       "    </tr>\n",
       "    <tr>\n",
       "      <th>566007</th>\n",
       "      <td>24</td>\n",
       "      <td>95.883</td>\n",
       "      <td>1</td>\n",
       "    </tr>\n",
       "  </tbody>\n",
       "</table>\n",
       "<p>566008 rows × 3 columns</p>\n",
       "</div>"
      ],
      "text/plain": [
       "        DriverNumber  LapTime  FreshTyre\n",
       "0                 44   95.270          1\n",
       "1                 44   95.120          1\n",
       "2                 44   93.731          1\n",
       "3                 44   93.955          1\n",
       "4                 44   93.679          1\n",
       "...              ...      ...        ...\n",
       "566003            22   95.133          0\n",
       "566004            24   97.487          1\n",
       "566005            24   96.727          1\n",
       "566006            24   95.731          1\n",
       "566007            24   95.883          1\n",
       "\n",
       "[566008 rows x 3 columns]"
      ]
     },
     "execution_count": 8,
     "metadata": {},
     "output_type": "execute_result"
    }
   ],
   "source": [
    "features = df[['DriverNumber', 'LapTime', 'FreshTyre']]\n",
    "features"
   ]
  },
  {
   "cell_type": "code",
   "execution_count": 9,
   "metadata": {},
   "outputs": [],
   "source": [
    "label = df['Position']"
   ]
  },
  {
   "cell_type": "code",
   "execution_count": 18,
   "metadata": {},
   "outputs": [
    {
     "name": "stdout",
     "output_type": "stream",
     "text": [
      "Collecting imbalanced-learn\n",
      "  Downloading imbalanced_learn-0.11.0-py3-none-any.whl.metadata (8.3 kB)\n",
      "Requirement already satisfied: numpy>=1.17.3 in /opt/homebrew/lib/python3.11/site-packages (from imbalanced-learn) (1.26.2)\n",
      "Requirement already satisfied: scipy>=1.5.0 in /opt/homebrew/lib/python3.11/site-packages (from imbalanced-learn) (1.11.4)\n",
      "Requirement already satisfied: scikit-learn>=1.0.2 in /opt/homebrew/lib/python3.11/site-packages (from imbalanced-learn) (1.3.2)\n",
      "Requirement already satisfied: joblib>=1.1.1 in /opt/homebrew/lib/python3.11/site-packages (from imbalanced-learn) (1.3.2)\n",
      "Requirement already satisfied: threadpoolctl>=2.0.0 in /opt/homebrew/lib/python3.11/site-packages (from imbalanced-learn) (3.2.0)\n",
      "Downloading imbalanced_learn-0.11.0-py3-none-any.whl (235 kB)\n",
      "\u001b[2K   \u001b[90m━━━━━━━━━━━━━━━━━━━━━━━━━━━━━━━━━━━━━━━━\u001b[0m \u001b[32m235.6/235.6 kB\u001b[0m \u001b[31m1.1 MB/s\u001b[0m eta \u001b[36m0:00:00\u001b[0ma \u001b[36m0:00:01\u001b[0mm\n",
      "\u001b[?25hInstalling collected packages: imbalanced-learn\n",
      "Successfully installed imbalanced-learn-0.11.0\n",
      "Note: you may need to restart the kernel to use updated packages.\n"
     ]
    }
   ],
   "source": [
    "#increase number of 1s\n",
    "%pip install imbalanced-learn\n",
    "from imblearn.over_sampling import SMOTE\n",
    "smote = SMOTE()\n",
    "X_resampled, Y_resampled = smote.fit_resample(features, label)\n"
   ]
  },
  {
   "cell_type": "code",
   "execution_count": 21,
   "metadata": {},
   "outputs": [
    {
     "name": "stdout",
     "output_type": "stream",
     "text": [
      "(1067512, 3)\n",
      "(1067512,)\n"
     ]
    }
   ],
   "source": [
    "print(X_resampled.shape)\n",
    "print(Y_resampled.shape)"
   ]
  },
  {
   "cell_type": "code",
   "execution_count": 22,
   "metadata": {},
   "outputs": [],
   "source": [
    "# Splitting the dataset into training and a temporary set (80% training, 20% temp)\n",
    "X_train, X_temp, Y_train, Y_temp = train_test_split(X_resampled, Y_resampled, test_size=0.2, shuffle=False)\n",
    "\n",
    "# Splitting the temporary set into validation and test sets (50% validation, 50% test of the temp set)\n",
    "# This results in 80% training, 10% validation, and 10% test sets of the original dataset\n",
    "X_val, X_test, Y_val, Y_test = train_test_split(X_temp, Y_temp, test_size=0.5, shuffle=False)"
   ]
  },
  {
   "cell_type": "code",
   "execution_count": 23,
   "metadata": {},
   "outputs": [],
   "source": [
    "scaler = StandardScaler()"
   ]
  },
  {
   "cell_type": "code",
   "execution_count": 24,
   "metadata": {},
   "outputs": [],
   "source": [
    "X_train_scaled = scaler.fit_transform(X_train)\n",
    "X_test_scaled = scaler.transform(X_test)\n",
    "X_val_scaled = scaler.transform(X_val)"
   ]
  },
  {
   "cell_type": "code",
   "execution_count": 25,
   "metadata": {},
   "outputs": [],
   "source": [
    "def create_sequences(X, Y, sequence_length):\n",
    "        X_seq, Y_seq = [], []\n",
    "        for i in range(len(X) - sequence_length):\n",
    "            X_seq.append(X[i: i + sequence_length])\n",
    "            Y_seq.append(Y.iloc[i + sequence_length])\n",
    "        return np.array(X_seq), np.array(Y_seq)"
   ]
  },
  {
   "cell_type": "code",
   "execution_count": 26,
   "metadata": {},
   "outputs": [],
   "source": [
    "X_train_seq, Y_train_seq = create_sequences(X_train_scaled, Y_train, 30)\n",
    "X_test_seq, Y_test_seq = create_sequences(X_test_scaled, Y_test, 30)\n",
    "X_val_seq, Y_val_seq = create_sequences(X_val_scaled, Y_val, 30)"
   ]
  },
  {
   "cell_type": "code",
   "execution_count": 27,
   "metadata": {},
   "outputs": [
    {
     "name": "stdout",
     "output_type": "stream",
     "text": [
      "X_train: (853979, 30, 3)\n",
      "Y_train: (853979,)\n",
      "X_test: (106722, 30, 3)\n",
      "Y_test: (106722,)\n",
      "X_val: (106721, 30, 3)\n",
      "Y_val: (106721,)\n"
     ]
    }
   ],
   "source": [
    "print(\"X_train:\",X_train_seq.shape)\n",
    "print(\"Y_train:\",Y_train_seq.shape)\n",
    "print(\"X_test:\",X_test_seq.shape)\n",
    "print(\"Y_test:\",Y_test_seq.shape)\n",
    "print(\"X_val:\",X_val_seq.shape)\n",
    "print(\"Y_val:\",Y_val_seq.shape)"
   ]
  },
  {
   "cell_type": "code",
   "execution_count": 29,
   "metadata": {},
   "outputs": [
    {
     "name": "stdout",
     "output_type": "stream",
     "text": [
      "Epoch 1/5\n",
      "13344/13344 [==============================] - 658s 49ms/step - loss: 0.1189 - accuracy: 0.9623 - val_loss: 8.3731e-05 - val_accuracy: 1.0000\n",
      "Epoch 2/5\n",
      "13344/13344 [==============================] - 697s 52ms/step - loss: 0.0918 - accuracy: 0.9671 - val_loss: 7.6391e-05 - val_accuracy: 1.0000\n",
      "Epoch 3/5\n",
      "13344/13344 [==============================] - 688s 52ms/step - loss: 0.0765 - accuracy: 0.9713 - val_loss: 3.4233e-05 - val_accuracy: 1.0000\n",
      "Epoch 4/5\n",
      "13344/13344 [==============================] - 722s 54ms/step - loss: 0.0670 - accuracy: 0.9743 - val_loss: 1.1217e-07 - val_accuracy: 1.0000\n",
      "Epoch 5/5\n",
      "13344/13344 [==============================] - 789s 59ms/step - loss: 0.0593 - accuracy: 0.9770 - val_loss: 1.2571e-04 - val_accuracy: 1.0000\n"
     ]
    }
   ],
   "source": [
    "# Initialize the LSTM model\n",
    "model = Sequential()\n",
    "\n",
    "# First LSTM layer with dropout\n",
    "model.add(LSTM(units=100, return_sequences=True, input_shape=(30, 3)))\n",
    "model.add(Dropout(0.3))\n",
    "\n",
    "# Second LSTM layer with dropout\n",
    "model.add(LSTM(units=100, return_sequences=True))\n",
    "model.add(Dropout(0.3))\n",
    "\n",
    "# Third LSTM layer with dropout\n",
    "model.add(LSTM(units=100, return_sequences=False))\n",
    "model.add(Dropout(0.3))\n",
    "\n",
    "# Additional Dense layers before the output\n",
    "model.add(Dense(units=50, activation='relu'))\n",
    "model.add(Dense(units=25, activation='relu'))\n",
    "\n",
    "# Output layer for classification\n",
    "model.add(Dense(units=1, activation='sigmoid'))\n",
    "\n",
    "# Compile the model for binary classification\n",
    "model.compile(optimizer='adam', loss='binary_crossentropy', metrics=['accuracy'])\n",
    "\n",
    "early_stopping = EarlyStopping(monitor='val_loss', patience=3, restore_best_weights=True)\n",
    "\n",
    "# Train the model with Early Stopping\n",
    "history = model.fit(\n",
    "    X_train_seq, \n",
    "    Y_train_seq, \n",
    "    epochs=5, \n",
    "    batch_size=64, \n",
    "    validation_data=(X_val_seq, Y_val_seq),\n",
    "    callbacks=[early_stopping]\n",
    ")\n"
   ]
  },
  {
   "cell_type": "code",
   "execution_count": 30,
   "metadata": {},
   "outputs": [
    {
     "name": "stdout",
     "output_type": "stream",
     "text": [
      "Test Accuracy: 100.00%\n"
     ]
    }
   ],
   "source": [
    "# Assuming model is your trained LSTM model\n",
    "# X_test and Y_test are your test features and labels\n",
    "loss, accuracy = model.evaluate(X_test_seq, Y_test_seq, verbose=0)\n",
    "\n",
    "print(f\"Test Accuracy: {accuracy*100:.2f}%\")\n"
   ]
  },
  {
   "cell_type": "code",
   "execution_count": 31,
   "metadata": {},
   "outputs": [],
   "source": [
    "from lime import lime_text\n",
    "from lime.lime_text import LimeTextExplainer"
   ]
  },
  {
   "cell_type": "code",
   "execution_count": 32,
   "metadata": {},
   "outputs": [],
   "source": [
    "explainer = LimeTextExplainer(class_names=['winner', 'loser'])  # Fill in class names as appropriate\n"
   ]
  },
  {
   "cell_type": "code",
   "execution_count": 33,
   "metadata": {},
   "outputs": [],
   "source": [
    "def predict_fn(data):\n",
    "    # Preprocess data as required by your model\n",
    "    # For example, tokenizing, padding, etc.\n",
    "    preprocessed_data = data\n",
    "    x = model.predict(X_test_seq[0].reshape(1,30,3))\n",
    "    # Make predictions\n",
    "    return x\n"
   ]
  },
  {
   "cell_type": "code",
   "execution_count": 39,
   "metadata": {},
   "outputs": [
    {
     "ename": "TypeError",
     "evalue": "cannot use a string pattern on a bytes-like object",
     "output_type": "error",
     "traceback": [
      "\u001b[0;31m---------------------------------------------------------------------------\u001b[0m",
      "\u001b[0;31mTypeError\u001b[0m                                 Traceback (most recent call last)",
      "\u001b[1;32m/Users/shreyanshmac/Documents/DSCI 565 DL/finalProject/new/F1PyStats/notebooks/lstm_class.ipynb Cell 22\u001b[0m line \u001b[0;36m2\n\u001b[1;32m      <a href='vscode-notebook-cell:/Users/shreyanshmac/Documents/DSCI%20565%20DL/finalProject/new/F1PyStats/notebooks/lstm_class.ipynb#X31sZmlsZQ%3D%3D?line=0'>1</a>\u001b[0m idx \u001b[39m=\u001b[39m \u001b[39m0\u001b[39m  \u001b[39m# Index of the sample in your dataset you want to explain\u001b[39;00m\n\u001b[0;32m----> <a href='vscode-notebook-cell:/Users/shreyanshmac/Documents/DSCI%20565%20DL/finalProject/new/F1PyStats/notebooks/lstm_class.ipynb#X31sZmlsZQ%3D%3D?line=1'>2</a>\u001b[0m exp \u001b[39m=\u001b[39m explainer\u001b[39m.\u001b[39;49mexplain_instance(X_test_seq[\u001b[39m0\u001b[39;49m]\u001b[39m.\u001b[39;49mreshape(\u001b[39m1\u001b[39;49m,\u001b[39m30\u001b[39;49m,\u001b[39m3\u001b[39;49m), predict_fn, num_features\u001b[39m=\u001b[39;49m\u001b[39m3\u001b[39;49m)\n\u001b[1;32m      <a href='vscode-notebook-cell:/Users/shreyanshmac/Documents/DSCI%20565%20DL/finalProject/new/F1PyStats/notebooks/lstm_class.ipynb#X31sZmlsZQ%3D%3D?line=2'>3</a>\u001b[0m exp\u001b[39m.\u001b[39mshow_in_notebook(text\u001b[39m=\u001b[39m\u001b[39mTrue\u001b[39;00m)\n",
      "File \u001b[0;32m/opt/homebrew/lib/python3.11/site-packages/lime/lime_text.py:409\u001b[0m, in \u001b[0;36mLimeTextExplainer.explain_instance\u001b[0;34m(self, text_instance, classifier_fn, labels, top_labels, num_features, num_samples, distance_metric, model_regressor)\u001b[0m\n\u001b[1;32m    368\u001b[0m \u001b[39mdef\u001b[39;00m \u001b[39mexplain_instance\u001b[39m(\u001b[39mself\u001b[39m,\n\u001b[1;32m    369\u001b[0m                      text_instance,\n\u001b[1;32m    370\u001b[0m                      classifier_fn,\n\u001b[0;32m   (...)\u001b[0m\n\u001b[1;32m    375\u001b[0m                      distance_metric\u001b[39m=\u001b[39m\u001b[39m'\u001b[39m\u001b[39mcosine\u001b[39m\u001b[39m'\u001b[39m,\n\u001b[1;32m    376\u001b[0m                      model_regressor\u001b[39m=\u001b[39m\u001b[39mNone\u001b[39;00m):\n\u001b[1;32m    377\u001b[0m \u001b[39m    \u001b[39m\u001b[39m\"\"\"Generates explanations for a prediction.\u001b[39;00m\n\u001b[1;32m    378\u001b[0m \n\u001b[1;32m    379\u001b[0m \u001b[39m    First, we generate neighborhood data by randomly hiding features from\u001b[39;00m\n\u001b[0;32m   (...)\u001b[0m\n\u001b[1;32m    403\u001b[0m \u001b[39m        explanations.\u001b[39;00m\n\u001b[1;32m    404\u001b[0m \u001b[39m    \"\"\"\u001b[39;00m\n\u001b[1;32m    406\u001b[0m     indexed_string \u001b[39m=\u001b[39m (IndexedCharacters(\n\u001b[1;32m    407\u001b[0m         text_instance, bow\u001b[39m=\u001b[39m\u001b[39mself\u001b[39m\u001b[39m.\u001b[39mbow, mask_string\u001b[39m=\u001b[39m\u001b[39mself\u001b[39m\u001b[39m.\u001b[39mmask_string)\n\u001b[1;32m    408\u001b[0m                       \u001b[39mif\u001b[39;00m \u001b[39mself\u001b[39m\u001b[39m.\u001b[39mchar_level \u001b[39melse\u001b[39;00m\n\u001b[0;32m--> 409\u001b[0m                       IndexedString(text_instance, bow\u001b[39m=\u001b[39;49m\u001b[39mself\u001b[39;49m\u001b[39m.\u001b[39;49mbow,\n\u001b[1;32m    410\u001b[0m                                     split_expression\u001b[39m=\u001b[39;49m\u001b[39mself\u001b[39;49m\u001b[39m.\u001b[39;49msplit_expression,\n\u001b[1;32m    411\u001b[0m                                     mask_string\u001b[39m=\u001b[39;49m\u001b[39mself\u001b[39;49m\u001b[39m.\u001b[39;49mmask_string))\n\u001b[1;32m    412\u001b[0m     domain_mapper \u001b[39m=\u001b[39m TextDomainMapper(indexed_string)\n\u001b[1;32m    413\u001b[0m     data, yss, distances \u001b[39m=\u001b[39m \u001b[39mself\u001b[39m\u001b[39m.\u001b[39m__data_labels_distances(\n\u001b[1;32m    414\u001b[0m         indexed_string, classifier_fn, num_samples,\n\u001b[1;32m    415\u001b[0m         distance_metric\u001b[39m=\u001b[39mdistance_metric)\n",
      "File \u001b[0;32m/opt/homebrew/lib/python3.11/site-packages/lime/lime_text.py:114\u001b[0m, in \u001b[0;36mIndexedString.__init__\u001b[0;34m(self, raw_string, split_expression, bow, mask_string)\u001b[0m\n\u001b[1;32m    110\u001b[0m \u001b[39melse\u001b[39;00m:\n\u001b[1;32m    111\u001b[0m     \u001b[39m# with the split_expression as a non-capturing group (?:), we don't need to filter out\u001b[39;00m\n\u001b[1;32m    112\u001b[0m     \u001b[39m# the separator character from the split results.\u001b[39;00m\n\u001b[1;32m    113\u001b[0m     splitter \u001b[39m=\u001b[39m re\u001b[39m.\u001b[39mcompile(\u001b[39mr\u001b[39m\u001b[39m'\u001b[39m\u001b[39m(\u001b[39m\u001b[39m%s\u001b[39;00m\u001b[39m)|$\u001b[39m\u001b[39m'\u001b[39m \u001b[39m%\u001b[39m split_expression)\n\u001b[0;32m--> 114\u001b[0m     \u001b[39mself\u001b[39m\u001b[39m.\u001b[39mas_list \u001b[39m=\u001b[39m [s \u001b[39mfor\u001b[39;00m s \u001b[39min\u001b[39;00m splitter\u001b[39m.\u001b[39;49msplit(\u001b[39mself\u001b[39;49m\u001b[39m.\u001b[39;49mraw) \u001b[39mif\u001b[39;00m s]\n\u001b[1;32m    115\u001b[0m     non_word \u001b[39m=\u001b[39m splitter\u001b[39m.\u001b[39mmatch\n\u001b[1;32m    117\u001b[0m \u001b[39mself\u001b[39m\u001b[39m.\u001b[39mas_np \u001b[39m=\u001b[39m np\u001b[39m.\u001b[39marray(\u001b[39mself\u001b[39m\u001b[39m.\u001b[39mas_list)\n",
      "\u001b[0;31mTypeError\u001b[0m: cannot use a string pattern on a bytes-like object"
     ]
    }
   ],
   "source": [
    "idx = 0  # Index of the sample in your dataset you want to explain\n",
    "exp = explainer.explain_instance(X_test_seq[0].reshape(1,30,3), predict_fn, num_features=3)\n",
    "exp.show_in_notebook(show_table=True)\n"
   ]
  },
  {
   "cell_type": "code",
   "execution_count": 37,
   "metadata": {},
   "outputs": [
    {
     "name": "stdout",
     "output_type": "stream",
     "text": [
      "1/1 [==============================] - 2s 2s/step\n"
     ]
    },
    {
     "data": {
      "text/plain": [
       "array([[1.]], dtype=float32)"
      ]
     },
     "execution_count": 37,
     "metadata": {},
     "output_type": "execute_result"
    }
   ],
   "source": [
    "model.predict(X_test_seq[0].reshape(1,30,3))"
   ]
  },
  {
   "cell_type": "code",
   "execution_count": 38,
   "metadata": {},
   "outputs": [
    {
     "data": {
      "text/plain": [
       "1"
      ]
     },
     "execution_count": 38,
     "metadata": {},
     "output_type": "execute_result"
    }
   ],
   "source": [
    "Y_test_seq[0]"
   ]
  },
  {
   "cell_type": "code",
   "execution_count": null,
   "metadata": {},
   "outputs": [],
   "source": []
  }
 ],
 "metadata": {
  "kernelspec": {
   "display_name": "Python 3",
   "language": "python",
   "name": "python3"
  },
  "language_info": {
   "codemirror_mode": {
    "name": "ipython",
    "version": 3
   },
   "file_extension": ".py",
   "mimetype": "text/x-python",
   "name": "python",
   "nbconvert_exporter": "python",
   "pygments_lexer": "ipython3",
   "version": "3.11.6"
  }
 },
 "nbformat": 4,
 "nbformat_minor": 2
}
